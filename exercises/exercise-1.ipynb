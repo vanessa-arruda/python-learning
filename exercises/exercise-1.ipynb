{
 "cells": [
  {
   "cell_type": "code",
   "execution_count": null,
   "metadata": {},
   "outputs": [],
   "source": [
    "#DATA STRUCTURE\n",
    "\n",
    "#HEAPS, STACKS and QUEUES\n",
    "#STACKS - op LIFO\n",
    "#QUEUE - op FIFO\n",
    "#HEAP - Tree-based data structure, Parent Node ordered according to child value"
   ]
  },
  {
   "cell_type": "code",
   "execution_count": 18,
   "metadata": {},
   "outputs": [
    {
     "name": "stdout",
     "output_type": "stream",
     "text": [
      "(5, 0, -1)\n",
      "[2, 5, 6, 7, 11, 14, 19, 27, 31, 34, 45, 48, 56, 77, 121, 222, 319, 400, 420]\n"
     ]
    }
   ],
   "source": [
    "#SORTING Algorithm\n",
    "\n",
    "def check_list(list):\n",
    "   return (len(list)-1, 0, -1)\n",
    "print(check_list([1,2,3,4,5,6]))\n",
    "\n",
    "def bubblesort(list):\n",
    "\n",
    "# Swap the elements to arrange in order\n",
    "   for iter_num in range(len(list)-1, 0,-1):\n",
    "      for i in range(iter_num):\n",
    "         if list[i]>list[i+1]:\n",
    "            temp = list[i]\n",
    "            list[i] = list[i+1]\n",
    "            list[i+1] = temp\n",
    "list = [19,2,31,45,6,11,121,27, 319, 400, 222, 48, 5, 7, 14, 34, 56, 420, 77]\n",
    "bubblesort(list)\n",
    "print(list)"
   ]
  },
  {
   "cell_type": "code",
   "execution_count": 30,
   "metadata": {},
   "outputs": [
    {
     "name": "stdout",
     "output_type": "stream",
     "text": [
      "['Hello World', 'Bye World']\n"
     ]
    }
   ],
   "source": [
    "a = ['Hello World', 'Bye World', 'Welcome']\n",
    "\n",
    "print(a[:-1])"
   ]
  },
  {
   "cell_type": "code",
   "execution_count": 40,
   "metadata": {},
   "outputs": [
    {
     "name": "stdout",
     "output_type": "stream",
     "text": [
      "hello world!\n",
      "HELLO WORLD!\n",
      "['Hello', 'World!']\n",
      "['Hello World!']\n",
      "HELLO WORLD!\n",
      "One: Hey! Two: Ho! Three: 123\n"
     ]
    }
   ],
   "source": [
    "#Python built-in Functions - https://docs.python.org/3/library/functions.html\n",
    "\n",
    "#String methods\n",
    "# object.method (parameters)\n",
    "\n",
    "a = \"Hello World!\"\n",
    "\n",
    "print(a.lower())\n",
    "print(a.upper())\n",
    "print(a.split())\n",
    "print(a.split('w'))\n",
    "print(a.upper())\n",
    "\n",
    "print(\"One: {text1} Two: {text2} Three: {text3}\".format(text1=\"Hey!\", text2=\"Ho!\", text3=123))\n",
    "#.format method (extra study) you add {} to create a placeholder and insert a variable value\n"
   ]
  },
  {
   "cell_type": "code",
   "execution_count": 1,
   "metadata": {},
   "outputs": [],
   "source": [
    "# #Lists & dictionary\n",
    "\n",
    "# new_list = [1, 3, 7, 5, 2, 8, 4, 6]\n",
    "\n",
    "# a = new_list.sort()\n",
    "# print(a)\n",
    "\n",
    "# my_dictionarie = {\n",
    "#  1:\"first value\",\n",
    "#  2:\"second value\",\n",
    "#  3:\"third value\",\n",
    "#  4:[1, 2]\n",
    "# }\n",
    "\n",
    "# print(my_dictionarie[2])\n"
   ]
  },
  {
   "cell_type": "code",
   "execution_count": 2,
   "metadata": {},
   "outputs": [
    {
     "name": "stdout",
     "output_type": "stream",
     "text": [
      "List:  ['Computer', 'Printer', 'TV', 89, 30.8]\n",
      "Tuple:  ('Computer', 'Printer', 'TV', 89, 30.8)\n",
      "{'Computer', 'Printer', 'TV', 89, 30.8}\n",
      "{1: 'Monday', 2: 'Tuesday', 3: 'Wednesday', 4: 'Thursday', 5: 'Friday'}\n"
     ]
    }
   ],
   "source": [
    "# DATA STRUCTURE\n",
    "# DIFFERENCE BETWEEN\n",
    "# LIST - Square braces [], accepts any data type\n",
    "# TUPLE - Rounded braces (), immutable\n",
    "# SET - The 'set' keyword + input([]) - output in {}, unordered, mutable, no duplicate elements\n",
    "# DICTIONARY - curly braces {}: made up of key-value pairs, keys immutable, ordered\n",
    "\n",
    "# list1 = [\"Computer\", \"Printer\", \"TV\", 89, 30.8]\n",
    "# print(\"List: \", list1)\n",
    "\n",
    "# tuple1 = (\"Computer\", \"Printer\", \"TV\", 89, 30.8)\n",
    "\n",
    "# tuple1[0] = \"Beauty\"\n",
    "# print(\"Tuple: \", tuple1)\n",
    "\n",
    "# set1 = set([\"Computer\", \"Printer\", \"TV\", 89, 30.8])\n",
    "# print(set1)\n",
    "\n",
    "# dict1_weekdays = {\n",
    "#   1: \"Monday\",\n",
    "#   2: \"Tuesday\",\n",
    "#   3: \"Wednesday\",\n",
    "#   4: \"Thursday\",\n",
    "#   5: \"Friday\"\n",
    "# }\n",
    "# print(dict1_weekdays)"
   ]
  }
 ],
 "metadata": {
  "kernelspec": {
   "display_name": "Python 3",
   "language": "python",
   "name": "python3"
  },
  "language_info": {
   "codemirror_mode": {
    "name": "ipython",
    "version": 3
   },
   "file_extension": ".py",
   "mimetype": "text/x-python",
   "name": "python",
   "nbconvert_exporter": "python",
   "pygments_lexer": "ipython3",
   "version": "3.12.2"
  }
 },
 "nbformat": 4,
 "nbformat_minor": 2
}
