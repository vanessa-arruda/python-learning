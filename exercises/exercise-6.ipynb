{
 "cells": [
  {
   "cell_type": "code",
   "execution_count": 4,
   "metadata": {},
   "outputs": [
    {
     "name": "stdout",
     "output_type": "stream",
     "text": [
      "<class 'list'>\n",
      "<class 'list'>\n",
      "<class 'tuple'>\n",
      "<class 'dict'>\n"
     ]
    }
   ],
   "source": [
    "l = [1, 2, 3]\n",
    "\n",
    "print(type(l)) # <class 'list'>\n",
    "print(type([])) # <class 'list'>\n",
    "print(type(())) # <class 'tuple'>\n",
    "print(type({})) # <class 'dict'>"
   ]
  },
  {
   "cell_type": "code",
   "execution_count": 10,
   "metadata": {},
   "outputs": [
    {
     "name": "stdout",
     "output_type": "stream",
     "text": [
      "<class '__main__.Sample'>\n"
     ]
    }
   ],
   "source": [
    "#class is the blueprint to define the nature of the future objects\n",
    "\n",
    "class Sample():\n",
    "    pass\n",
    "\n",
    "x = Sample()\n",
    "print(type(x))\n",
    "\n"
   ]
  },
  {
   "cell_type": "code",
   "execution_count": 14,
   "metadata": {},
   "outputs": [
    {
     "name": "stdout",
     "output_type": "stream",
     "text": [
      "Labrador\n",
      "mammal\n"
     ]
    }
   ],
   "source": [
    "class Dog():\n",
    "    #class object Atributes\n",
    "    species = 'mammal'\n",
    "    def __init__(self, breed, name): # a constructor - innitialize an attribute of an object\n",
    "        self.breed = breed\n",
    "        self.name = name\n",
    "\n",
    "milo = Dog('Labrador', 'milo')\n",
    "# frank = Dog(breed='Huskie')\n",
    "\n",
    "print(milo.breed)\n",
    "print(milo.species)\n",
    "# print(frank.breed)"
   ]
  },
  {
   "cell_type": "code",
   "execution_count": 21,
   "metadata": {},
   "outputs": [
    {
     "name": "stdout",
     "output_type": "stream",
     "text": [
      "Radius is  2\n",
      "Area is  12.56\n"
     ]
    }
   ],
   "source": [
    "class Circle():\n",
    "    pi = 3.14\n",
    "    #Circle gets instantiated with a radius (default is 1)\n",
    "    def __init__(self, radius=1): #constructor\n",
    "        self.radius = radius\n",
    "    #area method calculates the area. Note the use of self\n",
    "    #create a method\n",
    "    def area(self):\n",
    "        return self.radius*self.radius*Circle.pi\n",
    "    #Method resetting Radius\n",
    "    def setRadius(self, radius):\n",
    "        self.radius = radius\n",
    "    # Method for getting radius (same as just calling r0adius)\n",
    "    def getRadius(self):\n",
    "        return self.radius\n",
    "\n",
    "c = Circle()\n",
    "c.setRadius(2)\n",
    "print('Radius is ', c.getRadius())\n",
    "print('Area is ', c.area())"
   ]
  },
  {
   "cell_type": "code",
   "execution_count": 26,
   "metadata": {},
   "outputs": [
    {
     "name": "stdout",
     "output_type": "stream",
     "text": [
      "Alice is 34 years old and has email alice@email.com\n",
      "Bob is 35 years old and has email bob@email.com\n",
      "072 123 2589\n"
     ]
    }
   ],
   "source": [
    "class Person:\n",
    "    def __init__(self, name, email, age):\n",
    "        self.name = name\n",
    "        self.email = email\n",
    "        self.age = age\n",
    "\n",
    "    def __str__(self):\n",
    "        return f'{self.name} is {self.age} years old and has email {self.email}'\n",
    "    \n",
    "p1 = Person('Alice', 'alice@email.com', '34')\n",
    "p2 = Person('Bob','bob@email.com','35')\n",
    "\n",
    "print(p1)\n",
    "print(p2)\n",
    "\n",
    "p1.phone = '072 123 2589'\n",
    "print(p1.phone)"
   ]
  },
  {
   "cell_type": "code",
   "execution_count": 1,
   "metadata": {},
   "outputs": [
    {
     "name": "stdout",
     "output_type": "stream",
     "text": [
      "Alice is 23 years old.\n",
      "Liana is  years old.\n"
     ]
    }
   ],
   "source": [
    "#we don't know the __\n",
    "\n",
    "class Person:\n",
    "    def __init__(self, **kwargs):\n",
    "        self.__dict__ = kwargs\n",
    "\n",
    "    def __str__(self):\n",
    "        return f'{self.name} is {self.age} years old.'\n",
    "\n",
    "p1 = Person(name='Alice', age = 23)\n",
    "p2 = Person(name='Liana', age = 35)\n",
    "\n",
    "print(p1)\n",
    "print(p2)"
   ]
  },
  {
   "cell_type": "code",
   "execution_count": 11,
   "metadata": {},
   "outputs": [
    {
     "name": "stdout",
     "output_type": "stream",
     "text": [
      "a = 10\n",
      "b = 20\n",
      "name = One\n",
      "c = 15\n",
      "d = 25\n",
      "name = Two\n"
     ]
    }
   ],
   "source": [
    "class Something:\n",
    "    def __init__(self, data:dict):\n",
    "        self.__dict__=data\n",
    "\n",
    "    def __str__(self):\n",
    "        # str_rep = ''\n",
    "        # for key, value in self.__dict__.items():\n",
    "        #     str_rep += f'{key} = {value}, '\n",
    "        # return str_rep\n",
    "        #list comprehension:\n",
    "        return '\\n'.join([f'{key} = {value}' for key, value in self.__dict__.items()])\n",
    "\n",
    "data_dict1 = {\n",
    "    'a':10,\n",
    "    'b':20,\n",
    "    'name':'One'\n",
    "}\n",
    "\n",
    "data_dict2 = {\n",
    "    'c':15,\n",
    "    'd':25,\n",
    "    'name':'Two'\n",
    "}\n",
    "\n",
    "s1 = Something(data_dict1)\n",
    "s2 = Something(data_dict2)\n",
    "\n",
    "print(s1)\n",
    "print(s2)"
   ]
  }
 ],
 "metadata": {
  "kernelspec": {
   "display_name": "Python 3",
   "language": "python",
   "name": "python3"
  },
  "language_info": {
   "codemirror_mode": {
    "name": "ipython",
    "version": 3
   },
   "file_extension": ".py",
   "mimetype": "text/x-python",
   "name": "python",
   "nbconvert_exporter": "python",
   "pygments_lexer": "ipython3",
   "version": "3.12.2"
  }
 },
 "nbformat": 4,
 "nbformat_minor": 2
}
