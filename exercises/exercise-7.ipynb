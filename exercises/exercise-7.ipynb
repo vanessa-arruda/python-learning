{
 "cells": [
  {
   "cell_type": "code",
   "execution_count": 13,
   "metadata": {},
   "outputs": [
    {
     "name": "stdout",
     "output_type": "stream",
     "text": [
      "True\n",
      "Point(x=20, y=10)\n"
     ]
    }
   ],
   "source": [
    "#coordinates example\n",
    "from typing import Any\n",
    "\n",
    "\n",
    "class Point:\n",
    "    def __init__(self, x, y):\n",
    "        self.x = x\n",
    "        self.y = y\n",
    "    \n",
    "    #dunder method (string representration of an object)\n",
    "    #without this we can't print the values, we just get the memory alocation\n",
    "    #more intended for developers\n",
    "    def __repr__(self):\n",
    "        return f'__repr__ - Point(x={self.x}, y={self.y})'\n",
    "    \n",
    "    #prioritized over __repr__\n",
    "    #more for users\n",
    "    def __str__(self):\n",
    "        return f'Point(x={self.x}, y={self.y})'\n",
    "    \n",
    "    #dunder method for comparison the correct way between objects\n",
    "    #without it, the outcome is False, with it, it's true\n",
    "    def __eq__(self, other):\n",
    "        return self.x == other.x and self.y == other.y\n",
    "    \n",
    "    def swap_xy(self):\n",
    "        self.x, self.y = self.y, self.x\n",
    "\n",
    "point1 = Point(10,20)\n",
    "point2 = Point(10,20)\n",
    "\n",
    "# comparison - its comparing the two objects\n",
    "print(point1 == point2)\n",
    "\n",
    "point1.swap_xy()\n",
    "print(point1)"
   ]
  },
  {
   "cell_type": "code",
   "execution_count": 16,
   "metadata": {},
   "outputs": [
    {
     "name": "stdout",
     "output_type": "stream",
     "text": [
      "In A.__init__ and value = 10\n",
      "10\n"
     ]
    }
   ],
   "source": [
    "#inheritance\n",
    "\n",
    "class A:\n",
    "    def __init__(self, value):\n",
    "        self.value = value\n",
    "        print(f'In A.__init__ and value = {self.value}')\n",
    "\n",
    "#inherit from A\n",
    "class B(A):\n",
    "    pass\n",
    "\n",
    "b = B(10)\n",
    "print(b.value)"
   ]
  },
  {
   "cell_type": "code",
   "execution_count": 22,
   "metadata": {},
   "outputs": [
    {
     "name": "stdout",
     "output_type": "stream",
     "text": [
      "In B.__init__ and value = 10\n",
      "In A.__init__ and value = 10\n",
      "20\n",
      "In D.__init__ and value = 10\n",
      "In C.__init__ and value = 10\n",
      "In B.__init__ and value = 10\n",
      "In A.__init__ and value = 10\n",
      "80\n",
      "[<class '__main__.D'>, <class '__main__.C'>, <class '__main__.B'>, <class '__main__.A'>, <class 'object'>]\n"
     ]
    }
   ],
   "source": [
    "#multiple inheritance\n",
    "\n",
    "class A:\n",
    "    def __init__(self, value):\n",
    "        self.value = value\n",
    "        print(f'In A.__init__ and value = {value}')\n",
    "\n",
    "#inherit from A\n",
    "class B(A):\n",
    "    def __init__(self, value):\n",
    "        print(f'In B.__init__ and value = {value}')\n",
    "        super().__init__(value)\n",
    "        self.value += 10\n",
    "\n",
    "class C(A):\n",
    "    def __init__(self, value):\n",
    "        print(f'In C.__init__ and value = {value}')\n",
    "        super().__init__(value)\n",
    "        self.value *= 4\n",
    "\n",
    "#multiple inheritance\n",
    "class D(C,B):\n",
    "    def __init__(self, value):\n",
    "        print(f'In D.__init__ and value = {value}')\n",
    "        super().__init__(value)\n",
    "\n",
    "b = B(10)\n",
    "print(b.value)\n",
    "\n",
    "d = D(10)\n",
    "print(d.value)\n",
    "\n",
    "#method resolution order\n",
    "print(D.mro())"
   ]
  },
  {
   "cell_type": "code",
   "execution_count": null,
   "metadata": {},
   "outputs": [],
   "source": []
  }
 ],
 "metadata": {
  "kernelspec": {
   "display_name": "Python 3",
   "language": "python",
   "name": "python3"
  },
  "language_info": {
   "codemirror_mode": {
    "name": "ipython",
    "version": 3
   },
   "file_extension": ".py",
   "mimetype": "text/x-python",
   "name": "python",
   "nbconvert_exporter": "python",
   "pygments_lexer": "ipython3",
   "version": "3.12.2"
  }
 },
 "nbformat": 4,
 "nbformat_minor": 2
}
