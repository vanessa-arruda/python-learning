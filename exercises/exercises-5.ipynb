{
 "cells": [
  {
   "cell_type": "code",
   "execution_count": null,
   "metadata": {},
   "outputs": [],
   "source": [
    "#lambda expression (anonymous expression) instead of function\n",
    "\n",
    "#single line expression that dont need name\n",
    "#ideal for situation for simple functions of one time functions\n",
    "#ex:\n",
    "#standard function\n",
    "def times_two(num):\n",
    "    return num*2\n",
    "\n",
    "#lambda expression\n",
    "# [keyworld + argument: + body]\n",
    "lambda num: num*2"
   ]
  },
  {
   "cell_type": "code",
   "execution_count": 3,
   "metadata": {},
   "outputs": [],
   "source": [
    "#using Filter()\n",
    "lst = [1,2,3,4,5,6,7,8,9,10]\n",
    "# def even_bool(num):\n",
    "#     return num % 2 == 0\n",
    "\n",
    "# evens = filter(even_bool,lst)\n",
    "# print(list(evens))\n",
    "\n",
    "evens = filter(lambda num: num % 2 == 0, lst)\n",
    "print(list(evens))"
   ]
  },
  {
   "cell_type": "code",
   "execution_count": 7,
   "metadata": {},
   "outputs": [
    {
     "name": "stdout",
     "output_type": "stream",
     "text": [
      "[2, 3, 4, 5, 6]\n"
     ]
    }
   ],
   "source": [
    "#using Map()\n",
    "\n",
    "values = [1,2,3,4,5]\n",
    "\n",
    "answer = map(lambda num: num+1, values)\n",
    "print(list(answer))"
   ]
  },
  {
   "cell_type": "code",
   "execution_count": 9,
   "metadata": {},
   "outputs": [
    {
     "name": "stdout",
     "output_type": "stream",
     "text": [
      "[0, 1, 2, 3, 4]\n"
     ]
    }
   ],
   "source": [
    "def mapper(helper_func, iterable):\n",
    "    result = []\n",
    "    for value in iterable:\n",
    "        helper_result = helper_func(value)\n",
    "        result.append(helper_result)\n",
    "    return result\n",
    "\n",
    "values = [1,2,3,4,5]\n",
    "result = mapper(lambda x: x-1, values)\n",
    "print(list(result))"
   ]
  },
  {
   "cell_type": "code",
   "execution_count": 11,
   "metadata": {},
   "outputs": [
    {
     "name": "stdout",
     "output_type": "stream",
     "text": [
      "15\n",
      "30\n",
      "15\n",
      "hello Vanessa\n"
     ]
    }
   ],
   "source": [
    "#scopes\n",
    "x = 15\n",
    "def printer():\n",
    "    x = 30\n",
    "    return x\n",
    "\n",
    "print(x) #expected 15\n",
    "print(printer()) #expected 30\n",
    "print(x) #expected 15\n",
    "\n",
    "#rules\n",
    "\n",
    "# 1. Name assignment will create or change local names by default\n",
    "# 2. Name references search (at most) four scopes, these are: (LEGB rule)\n",
    "    #* Local - name assigned in any way within a function (def or lambda) and not declared global in that func\n",
    "    #* Enclosing functions - Name in the local scope of any and all enclosing func, inner or outer.\n",
    "    #* Global - Names assigned at the top-level of a module file, or declared global in a def within a file\n",
    "    #* Built-in - Built-in names, module, range\n",
    "# 3. Names declared in global and nonlocal statement map assigned names to enclosing module and\n",
    "#   function scopes\n",
    "\n",
    "# Local - x is local\n",
    "f = lambda x: x**2\n",
    "\n",
    "# Enclosing functions (nested functions / a function inside a function)\n",
    "name = 'This is some global name' \n",
    "\n",
    "def greet():\n",
    "    name = 'Vanessa' #local scope of the variable\n",
    "\n",
    "    def hello():\n",
    "        print('hello ' + name)\n",
    "    \n",
    "    hello() #enclosed inside greet function\n",
    "\n",
    "greet()\n",
    "\n",
    "# Global scope\n",
    "print(name)\n",
    "\n",
    "# Built-in\n",
    "len()"
   ]
  },
  {
   "cell_type": "code",
   "execution_count": 15,
   "metadata": {},
   "outputs": [
    {
     "name": "stdout",
     "output_type": "stream",
     "text": [
      "x is 50\n",
      "Change local x to 2\n",
      "global x is still 50\n",
      "---------------Next exercise------------- \n",
      "\n",
      "Before calling func() x is:  50\n",
      "This function is now using the global variable X\n",
      "Because of global x is: 50\n",
      "Ran func(), changed global x to 2\n",
      "Value of x outside of func(is):  2\n"
     ]
    }
   ],
   "source": [
    "# Global statement vs Local\n",
    "x = 50\n",
    "def func(x):\n",
    "    print('x is', x) #gets global value\n",
    "    x=2 # reasing locally to the func\n",
    "    print('Change local x to', x)\n",
    "func(x)\n",
    "print('global x is still', x)\n",
    "\n",
    "print(\"---------------Next exercise------------- \\n\")\n",
    "\n",
    "def func():\n",
    "    global x\n",
    "    print(\"This function is now using the global variable X\")\n",
    "    print(\"Because of global x is:\", x)\n",
    "    x = 2\n",
    "    print(\"Ran func(), changed global x to\", x)\n",
    "\n",
    "print(\"Before calling func() x is: \", x)\n",
    "func()\n",
    "print(\"Value of x outside of func(is): \", x)"
   ]
  }
 ],
 "metadata": {
  "kernelspec": {
   "display_name": "Python 3",
   "language": "python",
   "name": "python3"
  },
  "language_info": {
   "codemirror_mode": {
    "name": "ipython",
    "version": 3
   },
   "file_extension": ".py",
   "mimetype": "text/x-python",
   "name": "python",
   "nbconvert_exporter": "python",
   "pygments_lexer": "ipython3",
   "version": "3.12.2"
  }
 },
 "nbformat": 4,
 "nbformat_minor": 2
}
