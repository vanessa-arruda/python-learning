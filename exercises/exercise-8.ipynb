{
 "cells": [
  {
   "cell_type": "code",
   "execution_count": 1,
   "metadata": {},
   "outputs": [
    {
     "name": "stdout",
     "output_type": "stream",
     "text": [
      "Quack!\n",
      "Craaaw!\n"
     ]
    }
   ],
   "source": [
    "#DOCTYPE\n",
    "\n",
    "class Bird:\n",
    "  def make_sound(self):\n",
    "    return \"A sound\"\n",
    "  \n",
    "class Duck(Bird):\n",
    "  def make_sound(self):\n",
    "    return \"Quack!\"\n",
    "  \n",
    "class Crow(Bird):\n",
    "  def make_sound(self):\n",
    "    return \"Craaaw!\"\n",
    "  \n",
    "def let_bird_make_sound(bird):\n",
    "  return bird.make_sound()\n",
    "  \n",
    "\n",
    "duck = Duck()\n",
    "crow = Crow()\n",
    "\n",
    "print(let_bird_make_sound(duck))\n",
    "print(let_bird_make_sound(crow))\n",
    "\n"
   ]
  },
  {
   "cell_type": "code",
   "execution_count": 2,
   "metadata": {},
   "outputs": [
    {
     "name": "stdout",
     "output_type": "stream",
     "text": [
      "5\n"
     ]
    }
   ],
   "source": [
    "#importing libraries\n",
    "from math import sqrt\n",
    "\n",
    "print(int(sqrt(25)))\n",
    "\n",
    "#or\n",
    "# import math\n",
    "# print(int(math.sqrt(25)))\n",
    "\n",
    "#or\n",
    "# from math import sqrt as sq\n",
    "# print(int(sq(25)))\n"
   ]
  }
 ],
 "metadata": {
  "kernelspec": {
   "display_name": "Python 3",
   "language": "python",
   "name": "python3"
  },
  "language_info": {
   "codemirror_mode": {
    "name": "ipython",
    "version": 3
   },
   "file_extension": ".py",
   "mimetype": "text/x-python",
   "name": "python",
   "nbconvert_exporter": "python",
   "pygments_lexer": "ipython3",
   "version": "3.12.2"
  }
 },
 "nbformat": 4,
 "nbformat_minor": 2
}
