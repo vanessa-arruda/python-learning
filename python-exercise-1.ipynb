{
 "cells": [
  {
   "cell_type": "code",
   "execution_count": null,
   "metadata": {},
   "outputs": [],
   "source": [
    "#HEAPS, STACKS and QUEUES\n",
    "#STACKS - LIFO\n",
    "#QUEUE - FIFO\n",
    "#HEAP - Tree-based data structure, Parent Node ordered according to child value\n",
    "\n",
    "\n"
   ]
  },
  {
   "cell_type": "code",
   "execution_count": 10,
   "metadata": {},
   "outputs": [
    {
     "name": "stdout",
     "output_type": "stream",
     "text": [
      "List:  ['Computer', 'Printer', 'TV', 89, 30.8]\n",
      "Tuple:  ('Computer', 'Printer', 'TV', 89, 30.8)\n",
      "{'Computer', 'Printer', 89, 'TV', 30.8}\n",
      "{1: 'Monday', 2: 'Tuesday', 3: 'Wednesday', 4: 'Thursday', 5: 'Friday'}\n"
     ]
    }
   ],
   "source": [
    "# DIFFERENCE BETWEEN\n",
    "# LIST - Square braces [], accepts any data type\n",
    "# TUPLE - Rounded braces (), immutable\n",
    "# SET - The 'set' keyword + input([]) - output in {}, unordered, mutable, no duplicate elements\n",
    "# DICTIONARY - curly braces {}: made up of key-value pairs, keys immutable, ordered\n",
    "\n",
    "list1 = [\"Computer\", \"Printer\", \"TV\", 89, 30.8]\n",
    "print(\"List: \", list1)\n",
    "\n",
    "tuple1 = (\"Computer\", \"Printer\", \"TV\", 89, 30.8)\n",
    "print(\"Tuple: \", tuple1)\n",
    "\n",
    "set1 = set([\"Computer\", \"Printer\", \"TV\", 89, 30.8])\n",
    "print(set1)\n",
    "\n",
    "dict1_weekdays = {\n",
    "  1: \"Monday\",\n",
    "  2: \"Tuesday\",\n",
    "  3: \"Wednesday\",\n",
    "  4: \"Thursday\",\n",
    "  5: \"Friday\"\n",
    "}\n",
    "print(dict1_weekdays)"
   ]
  }
 ],
 "metadata": {
  "kernelspec": {
   "display_name": "Python 3",
   "language": "python",
   "name": "python3"
  },
  "language_info": {
   "codemirror_mode": {
    "name": "ipython",
    "version": 3
   },
   "file_extension": ".py",
   "mimetype": "text/x-python",
   "name": "python",
   "nbconvert_exporter": "python",
   "pygments_lexer": "ipython3",
   "version": "3.12.2"
  }
 },
 "nbformat": 4,
 "nbformat_minor": 2
}
